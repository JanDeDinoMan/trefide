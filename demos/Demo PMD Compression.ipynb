{
 "cells": [
  {
   "cell_type": "code",
   "execution_count": 1,
   "metadata": {},
   "outputs": [],
   "source": [
    "# General Dependencies\n",
    "import numpy as np\n",
    "import scipy.io as io\n",
    "\n",
    "# Preprocessing Dependencies\n",
    "from trefide.utils.noise import estimate_noise\n",
    "\n",
    "# CPP Wrapper Dependencies\n",
    "from trefide.pmd import parallel_batch_pmd, serial_batch_pmd\n",
    "\n",
    "# Experimental Implementation Dependencies\n",
    "from trefide.temporal import TrendFilter\n",
    "from trefide.utils.greedyPCA import choose_rank\n",
    "from prox_tv import tv1_2d\n",
    "\n",
    "# Plotting & Video Dependencies\n",
    "import matplotlib.pyplot as plt\n",
    "import cv2\n",
    "from cv2 import VideoWriter, VideoWriter_fourcc, imshow\n",
    "\n",
    "%load_ext autoreload\n",
    "%autoreload 2"
   ]
  },
  {
   "cell_type": "markdown",
   "metadata": {},
   "source": [
    "# functions to migrate"
   ]
  },
  {
   "cell_type": "code",
   "execution_count": 2,
   "metadata": {},
   "outputs": [],
   "source": [
    "def eval_tv(image):\n",
    "    return np.sum(np.abs(image[1:,:] - image[:-1,:])) + np.sum(np.abs(image[:,1:] - image[:,:-1]))"
   ]
  },
  {
   "cell_type": "code",
   "execution_count": 3,
   "metadata": {},
   "outputs": [],
   "source": [
    "def play(movie, gain=3, fr=120, offset=0, magnification=3):\n",
    "    maxmov = np.max(movie)\n",
    "    looping=True\n",
    "    terminated=False\n",
    "    while looping:\n",
    "        for t in range(350, 1000):\n",
    "            if magnification != 1:\n",
    "                frame = cv2.resize(movie[:,:,t],\n",
    "                                   None,\n",
    "                                   fx=magnification,\n",
    "                                   fy=magnification,\n",
    "                                   interpolation=cv2.INTER_LINEAR)\n",
    "            imshow('frame', (frame - offset) / maxmov*gain)\n",
    "            if cv2.waitKey(int(1. / fr * 1000)) & 0xFF == ord('q'):\n",
    "                looping = False\n",
    "                terminated = True\n",
    "                break\n",
    "        if terminated:\n",
    "            break\n",
    "\n",
    "    cv2.waitKey(100)\n",
    "    cv2.destroyAllWindows()\n",
    "    for i in range(10):\n",
    "        cv2.waitKey(100)"
   ]
  },
  {
   "cell_type": "markdown",
   "metadata": {},
   "source": [
    "# Load Data & Set Params"
   ]
  },
  {
   "cell_type": "code",
   "execution_count": 4,
   "metadata": {},
   "outputs": [],
   "source": [
    "X = np.load(\"../data/prepared_sampleMovie.npy\")\n",
    "X = X[40:,400:,:].copy()\n",
    "d1, d2, T = X.shape"
   ]
  },
  {
   "cell_type": "code",
   "execution_count": 5,
   "metadata": {},
   "outputs": [],
   "source": [
    "max_components = 20\n",
    "maxiter=50\n",
    "tol = 5e-3\n",
    "bheight = 20\n",
    "bwidth = 100\n",
    "spatial_cutoff = (bheight*bwidth / ((bheight*(bwidth-1) + bwidth*(bheight-1))))\n",
    "w=.0025"
   ]
  },
  {
   "cell_type": "markdown",
   "metadata": {},
   "source": [
    "# Decompose In Parallel"
   ]
  },
  {
   "cell_type": "code",
   "execution_count": 6,
   "metadata": {},
   "outputs": [],
   "source": [
    "U, V, K, indices = serial_batch_pmd(d1, d2, T, X, bheight, bwidth, w, spatial_cutoff, max_components, maxiter, tol)\n",
    "#U, V, K, indices = parallel_pmd(d1, d2, T, X, bheight, bwidth, w, spatial_cutoff, max_components, maxiter, tol)"
   ]
  },
  {
   "cell_type": "code",
   "execution_count": 7,
   "metadata": {},
   "outputs": [
    {
     "data": {
      "text/plain": [
       "array([4, 4, 5, 7, 6, 4, 4, 4], dtype=uint64)"
      ]
     },
     "execution_count": 7,
     "metadata": {},
     "output_type": "execute_result"
    }
   ],
   "source": [
    "K"
   ]
  },
  {
   "cell_type": "markdown",
   "metadata": {},
   "source": [
    "# Inspect Results"
   ]
  },
  {
   "cell_type": "markdown",
   "metadata": {},
   "source": [
    "## Plots"
   ]
  },
  {
   "cell_type": "markdown",
   "metadata": {},
   "source": [
    "### Patch Ranks"
   ]
  },
  {
   "cell_type": "code",
   "execution_count": null,
   "metadata": {},
   "outputs": [],
   "source": [
    "# TODO MAKE PLOT\n",
    "K"
   ]
  },
  {
   "cell_type": "markdown",
   "metadata": {},
   "source": [
    "### Component Quality"
   ]
  },
  {
   "cell_type": "code",
   "execution_count": null,
   "metadata": {
    "scrolled": true
   },
   "outputs": [],
   "source": [
    "b_idx = -1\n",
    "fig, ax = plt.subplots(int(K[b_idx]), 2, figsize=(16, 2*int(K[b_idx])))\n",
    "for k in range(int(K[b_idx])):\n",
    "    ax[k,0].plot(np.arange(T), V[b_idx, k, :])\n",
    "    ax[k,1].imshow(np.abs(U[b_idx,:,:,k]))\n",
    "    #ax[k,0].set_title(\"Temporal component {}, Passed: {}\".format(k, not k in temporal_failed))\n",
    "    #ax[k,1].set_title(\"Spatial component {}, Passed: {}\".format(k,k < K_prev[b_idx]))\n",
    "plt.tight_layout()\n",
    "plt.show()"
   ]
  },
  {
   "cell_type": "markdown",
   "metadata": {},
   "source": [
    "### Correlation Plots"
   ]
  },
  {
   "cell_type": "markdown",
   "metadata": {},
   "source": [
    "## Videos"
   ]
  },
  {
   "cell_type": "markdown",
   "metadata": {},
   "source": [
    "### Full Movie"
   ]
  },
  {
   "cell_type": "code",
   "execution_count": 8,
   "metadata": {},
   "outputs": [
    {
     "ename": "TypeError",
     "evalue": "slice indices must be integers or None or have an __index__ method",
     "output_type": "error",
     "traceback": [
      "\u001b[0;31m---------------------------------------------------------------------------\u001b[0m",
      "\u001b[0;31mTypeError\u001b[0m                                 Traceback (most recent call last)",
      "\u001b[0;32m<ipython-input-8-dcab7355237c>\u001b[0m in \u001b[0;36m<module>\u001b[0;34m()\u001b[0m\n\u001b[1;32m      5\u001b[0m         \u001b[0midx\u001b[0m \u001b[0;34m*=\u001b[0m \u001b[0mbheight\u001b[0m\u001b[0;34m\u001b[0m\u001b[0m\n\u001b[1;32m      6\u001b[0m         \u001b[0mjdx\u001b[0m \u001b[0;34m*=\u001b[0m \u001b[0mbwidth\u001b[0m\u001b[0;34m\u001b[0m\u001b[0m\n\u001b[0;32m----> 7\u001b[0;31m         \u001b[0mreconstructed\u001b[0m\u001b[0;34m[\u001b[0m\u001b[0midx\u001b[0m\u001b[0;34m:\u001b[0m\u001b[0midx\u001b[0m\u001b[0;34m+\u001b[0m\u001b[0mbheight\u001b[0m\u001b[0;34m,\u001b[0m \u001b[0mjdx\u001b[0m\u001b[0;34m:\u001b[0m\u001b[0mjdx\u001b[0m\u001b[0;34m+\u001b[0m\u001b[0mbwidth\u001b[0m\u001b[0;34m]\u001b[0m \u001b[0;34m+=\u001b[0m             \u001b[0mU\u001b[0m\u001b[0;34m[\u001b[0m\u001b[0mb_idx\u001b[0m\u001b[0;34m,\u001b[0m\u001b[0;34m:\u001b[0m\u001b[0;34m,\u001b[0m\u001b[0;34m:\u001b[0m\u001b[0;34m,\u001b[0m\u001b[0mk\u001b[0m\u001b[0;34m]\u001b[0m\u001b[0;34m[\u001b[0m\u001b[0;34m:\u001b[0m\u001b[0;34m,\u001b[0m\u001b[0;34m:\u001b[0m\u001b[0;34m,\u001b[0m\u001b[0;32mNone\u001b[0m\u001b[0;34m]\u001b[0m\u001b[0;34m.\u001b[0m\u001b[0mdot\u001b[0m\u001b[0;34m(\u001b[0m\u001b[0mV\u001b[0m\u001b[0;34m[\u001b[0m\u001b[0mb_idx\u001b[0m\u001b[0;34m,\u001b[0m\u001b[0mk\u001b[0m\u001b[0;34m,\u001b[0m\u001b[0;34m:\u001b[0m\u001b[0;34m]\u001b[0m\u001b[0;34m[\u001b[0m\u001b[0;32mNone\u001b[0m\u001b[0;34m,\u001b[0m\u001b[0;34m:\u001b[0m\u001b[0;34m]\u001b[0m\u001b[0;34m)\u001b[0m\u001b[0;34m.\u001b[0m\u001b[0mreshape\u001b[0m\u001b[0;34m(\u001b[0m\u001b[0;34m(\u001b[0m\u001b[0mbheight\u001b[0m\u001b[0;34m,\u001b[0m\u001b[0mbwidth\u001b[0m\u001b[0;34m,\u001b[0m\u001b[0mT\u001b[0m\u001b[0;34m)\u001b[0m\u001b[0;34m,\u001b[0m \u001b[0morder\u001b[0m\u001b[0;34m=\u001b[0m\u001b[0;34m'F'\u001b[0m\u001b[0;34m)\u001b[0m\u001b[0;34m\u001b[0m\u001b[0m\n\u001b[0m",
      "\u001b[0;31mTypeError\u001b[0m: slice indices must be integers or None or have an __index__ method"
     ]
    }
   ],
   "source": [
    "reconstructed = np.zeros(np.prod(X.shape)).reshape(X.shape)\n",
    "for b_idx, num_components in enumerate(K):\n",
    "    for k in range(num_components):\n",
    "        idx, jdx = indices[b_idx]\n",
    "        idx *= bheight\n",
    "        jdx *= bwidth\n",
    "        reconstructed[idx:idx+bheight, jdx:jdx+bwidth] += \\\n",
    "            U[b_idx,:,:,k][:,:,None].dot(V[b_idx,k,:][None,:]).reshape((bheight,bwidth,T), order='F')"
   ]
  },
  {
   "cell_type": "code",
   "execution_count": null,
   "metadata": {},
   "outputs": [],
   "source": []
  },
  {
   "cell_type": "code",
   "execution_count": null,
   "metadata": {},
   "outputs": [],
   "source": [
    "from trefide.pmd import reconstruct_movie"
   ]
  },
  {
   "cell_type": "code",
   "execution_count": null,
   "metadata": {},
   "outputs": [],
   "source": [
    "indices.dtype"
   ]
  },
  {
   "cell_type": "code",
   "execution_count": null,
   "metadata": {},
   "outputs": [],
   "source": [
    "reconstructed = reconstruct_movie(U,V,K, indices.astype(np.uint64))"
   ]
  },
  {
   "cell_type": "code",
   "execution_count": null,
   "metadata": {},
   "outputs": [],
   "source": [
    "V.shape"
   ]
  },
  {
   "cell_type": "code",
   "execution_count": null,
   "metadata": {},
   "outputs": [],
   "source": [
    "play(np.vstack([X, reconstructed, X - reconstructed]), magnification=2)"
   ]
  },
  {
   "cell_type": "markdown",
   "metadata": {},
   "source": [
    "### Single Patch"
   ]
  },
  {
   "cell_type": "code",
   "execution_count": null,
   "metadata": {},
   "outputs": [],
   "source": [
    "b_idx\n",
    "denoised = U[b_idx,:,:,:K[b_idx]].dot(V[b_idx, :K[b_idx],:]).reshape((bheight,bwidth,T), order='F')\n",
    "idx, jdx = indices[b_idx]\n",
    "idx *= bheight\n",
    "jdx *= bwidth\n",
    "raw = X[idx:idx+bheight, jdx:jdx+bwidth]\n",
    "residual = raw - denoised\n",
    "play(np.vstack([raw, denoised, residual]), magnification=7)"
   ]
  },
  {
   "cell_type": "code",
   "execution_count": null,
   "metadata": {},
   "outputs": [],
   "source": [
    "play(np.vstack([reconstructed]), magnification=2)"
   ]
  },
  {
   "cell_type": "markdown",
   "metadata": {},
   "source": [
    "  "
   ]
  },
  {
   "cell_type": "markdown",
   "metadata": {},
   "source": [
    "  "
   ]
  },
  {
   "cell_type": "markdown",
   "metadata": {},
   "source": [
    "# Everything Below Is Deprecated"
   ]
  },
  {
   "cell_type": "markdown",
   "metadata": {},
   "source": [
    "# Explore Spatial Cutoff"
   ]
  },
  {
   "cell_type": "code",
   "execution_count": null,
   "metadata": {},
   "outputs": [],
   "source": [
    "#tmp_real_tv = normalized_tv\n",
    "#tmp_real_l1 = normalized_l1\n",
    "#tmp_keep = keep\n",
    "normalized_tv = np.empty(np.sum(K))\n",
    "normalized_l1 = np.empty(np.sum(K))\n",
    "keep = np.zeros(np.sum(K), dtype=bool)\n",
    "idx = 0\n",
    "for b_idx, components in enumerate(K):\n",
    "    for k in range(components):\n",
    "        normalized_tv[idx] = eval_tv(U[b_idx,:,:,k]) / (bheight*(bwidth-1) + bwidth*(bheight-1))\n",
    "        normalized_l1[idx] = np.sum(np.abs(U[b_idx,:,:,k])) / (bheight*bwidth)\n",
    "        if k < K_prev[b_idx]:\n",
    "            keep[idx] = True\n",
    "        idx += 1"
   ]
  },
  {
   "cell_type": "code",
   "execution_count": null,
   "metadata": {},
   "outputs": [],
   "source": [
    "#tmp_tv = noise_normalized_tv\n",
    "#tmp_l1 = noise_normalized_l1\n",
    "noise_normalized_tv = np.empty(np.sum(K))\n",
    "noise_normalized_l1 = np.empty(np.sum(K))\n",
    "idx = 0\n",
    "for b_idx, components in enumerate(K):\n",
    "    for k in range(components):\n",
    "        noise_normalized_tv[idx] = eval_tv(U[b_idx,:,:,k]) / (bheight*(bwidth-1) + bwidth*(bheight-1))\n",
    "        noise_normalized_l1[idx] = np.sum(np.abs(U[b_idx,:,:,k])) / (bheight*bwidth)\n",
    "        idx += 1"
   ]
  },
  {
   "cell_type": "code",
   "execution_count": null,
   "metadata": {},
   "outputs": [],
   "source": [
    "#thresh = .0086\n",
    "#thresh = .0186\n",
    "#np.argwhere(np.logical_and(normalized_tv  < thresh, ~keep))\n",
    "#np.argwhere(np.logical_and(normalized_l1/normalized_tv >1, ~keep))"
   ]
  },
  {
   "cell_type": "code",
   "execution_count": null,
   "metadata": {},
   "outputs": [],
   "source": [
    "#rescale = (bheight*(bwidth-1) + bwidth*(bheight-1))/ (2*bwidth*bheight)\n",
    "rescale = 1\n",
    "plt.scatter(normalized_tv[keep]*rescale, normalized_l1[keep]*rescale, color='g')\n",
    "plt.scatter(normalized_tv[~keep]*rescale, normalized_l1[~keep]*rescale, color='r')\n",
    "#plt.scatter(noise_normalized_tv*rescale, noise_normalized_l1*rescale, color ='b')\n",
    "#plt.plot([thresh, thresh], [0, 1], \"m--\")\n",
    "plt.plot([0,.005],[0,.005], 'k--')\n",
    "#plt.xlim([0,.06])\n",
    "#plt.ylim([0,.06])\n",
    "#plt.xlim([0,.025])\n",
    "#plt.ylim([0,.03])\n",
    "#plt.xlim([0,.015])\n",
    "#plt.ylim([0,.014])\n",
    "plt.show()"
   ]
  },
  {
   "cell_type": "code",
   "execution_count": null,
   "metadata": {},
   "outputs": [],
   "source": [
    "np.savez(\"../data/test_blocks_\" + str(bheight) + \"_\" + str(bwidth),\n",
    "            noise_normalized_tv=noise_normalized_tv,\n",
    "            noise_normalized_l1=noise_normalized_l1,\n",
    "            normalized_tv=normalized_tv,\n",
    "            normalized_l1=normalized_l1,\n",
    "            keep=keep, d1=bheight, d2=bwidth)"
   ]
  },
  {
   "cell_type": "code",
   "execution_count": null,
   "metadata": {},
   "outputs": [],
   "source": [
    "np.min(noise_normalized_tv[noise_idx])"
   ]
  },
  {
   "cell_type": "code",
   "execution_count": null,
   "metadata": {},
   "outputs": [],
   "source": [
    "noise_idx = ~np.isnan(noise_normalized_tv)"
   ]
  },
  {
   "cell_type": "code",
   "execution_count": null,
   "metadata": {},
   "outputs": [],
   "source": [
    "plt.hist(normalized_tv[keep], bins=20, color='g')\n",
    "plt.hist(normalized_tv[~keep], bins=20, color='r')\n",
    "plt.hist(noise_normalized_tv[noise_idx], color='b')\n",
    "plt.show()"
   ]
  },
  {
   "cell_type": "markdown",
   "metadata": {},
   "source": [
    "# Run Iterations and Collect Data"
   ]
  },
  {
   "cell_type": "code",
   "execution_count": null,
   "metadata": {},
   "outputs": [],
   "source": [
    "K = 20\n",
    "U = np.zeros((d1*d2, K), dtype=np.float64, order='F')\n",
    "V = np.zeros((K,T), dtype=np.float64, order='C')\n",
    "maxiter=50\n",
    "n_metrics=3\n",
    "tol = 5e-3\n",
    "spatial_cutoff = (d1*d2 / ((d1*(d2-1) + d2*(d1-1))))*1.05\n",
    "w=.0025\n",
    "R = X.copy(order='F').reshape((d1*d2,T), order='F').reshape((d1*d2*T), order='F')"
   ]
  },
  {
   "cell_type": "code",
   "execution_count": null,
   "metadata": {},
   "outputs": [],
   "source": [
    "thresh= (d1*d2 / ((d1*(d2-1) + d2*(d1-1))))*1.05\n",
    "metric = np.empty(K)\n",
    "for k in range(K):\n",
    "    metric[k] = np.sum(np.abs(U[:,k])) / eval_tv(U[:,k].reshape(Y_block.shape[:2], order='F')) \n",
    "temporal_failed = np.argwhere(np.isnan(choose_rank(V, maxlag=10, confidence=.99, mean_th_factor=2)[0,:])).flatten()\n",
    "keep = np.setdiff1d(np.argwhere(metric > thresh), temporal_failed)\n",
    "print(\"components to keep:\" + str(keep))"
   ]
  },
  {
   "cell_type": "markdown",
   "metadata": {},
   "source": [
    "# Experimental Implementation (For Testing New Features)"
   ]
  },
  {
   "cell_type": "code",
   "execution_count": null,
   "metadata": {},
   "outputs": [],
   "source": [
    "X = X.reshape((np.prod(Y_block.shape[:2]), Y_block.shape[-1]))"
   ]
  },
  {
   "cell_type": "code",
   "execution_count": null,
   "metadata": {},
   "outputs": [],
   "source": [
    "K = 20\n",
    "maxiter=50\n",
    "n_metrics=3\n",
    "tol = 5e-3\n",
    "spatial_cutoff = (d1*d2 / ((d1*(d2-1) + d2*(d1-1))))*1.05\n",
    "w=.0025\n",
    "U = np.zeros((K, X.shape[0]))\n",
    "S = np.zeros(K)\n",
    "V = np.zeros((K, X.shape[1]))\n",
    "progress = np.zeros((K, maxiter, n_metrics))"
   ]
  },
  {
   "cell_type": "code",
   "execution_count": null,
   "metadata": {
    "scrolled": true
   },
   "outputs": [],
   "source": [
    "for k in range(K):\n",
    "    u = np.ones(U.shape[-1])\n",
    "    #u = np.random.randn(U.shape[-1])\n",
    "    u = u / np.linalg.norm(u)\n",
    "    trend_filter = TrendFilter(V.shape[-1], verbose=1)\n",
    "    v = X.T.dot(u)\n",
    "    v = trend_filter.denoise(v)\n",
    "    #v = trend_filter.denoise(v, delta=min(1, np.mean(np.power(v,2))-.0001))\n",
    "    #v = np.dot(X.T, u)\n",
    "    v = v / np.linalg.norm(v)\n",
    "    v_prev = v\n",
    "    u_prev = u\n",
    "    for iter_ in range(maxiter):\n",
    "        u = np.dot(X, v)\n",
    "        u = u / np.linalg.norm(u)\n",
    "        u =tv1_2d(u.reshape(Y_block.shape[:2]), w=w, max_iters=1).reshape((len(u),))\n",
    "        u = u / np.linalg.norm(u)\n",
    "        #v = np.dot(X.T, u)\n",
    "        #v = v / np.linalg.norm(v) \n",
    "        v = X.T.dot(u)\n",
    "        v = trend_filter.denoise(v)\n",
    "        #v = trend_filter.denoise(v, delta=min(1, np.mean(np.power(v,2))-.0001))\n",
    "        v = v / np.linalg.norm(v)\n",
    "        progress[k, iter_, 0] = u.T.dot(X).dot(v)\n",
    "        progress[k, iter_, 1] = np.linalg.norm(v - v_prev)\n",
    "        progress[k, iter_, 2] = np.linalg.norm(u - u_prev)\n",
    "        v_prev = v\n",
    "        u_prev = u\n",
    "        if iter_ > 5:\n",
    "            rel_diff = np.abs(progress[k,iter_-1,0] - progress[k,iter_,0]) / progress[k,iter_-1,0]\n",
    "            if np.max([rel_diff,  progress[k, iter_, 1],  progress[k, iter_, 2]]) < tol:\n",
    "                break\n",
    "        if iter_ == 9:\n",
    "            if np.sum(np.abs(u)) / eval_tv(u.reshape(Y_block.shape[:2])) < spatial_cutoff:\n",
    "                break\n",
    "            \n",
    "    if np.sum(np.abs(u)) / eval_tv(u.reshape(Y_block.shape[:2])) < spatial_cutoff:\n",
    "        break\n",
    "    else:\n",
    "        U[k,:] = u\n",
    "        #V[k,:] = v\n",
    "        V[k,:] = X.T.dot(u)\n",
    "        V[k,:] /= np.linalg.norm(V[k,:])\n",
    "        S[k] = np.dot(np.dot(X,V[k,:]).T, U[k,:])\n",
    "        X -= S[k] * U[k,:][:,None].dot(V[k,:][None,:])\n",
    "        print(k)"
   ]
  },
  {
   "cell_type": "code",
   "execution_count": null,
   "metadata": {},
   "outputs": [],
   "source": [
    "K = k"
   ]
  },
  {
   "cell_type": "code",
   "execution_count": null,
   "metadata": {},
   "outputs": [],
   "source": [
    "fig, ax = plt.subplots(K+1,2, figsize=(16,3*(K+1)))\n",
    "for k in range(K+1):\n",
    "    rel_diff = np.abs(progress[k,:-1,0] - progress[k,1:,0]) / progress[k,:-1,0]\n",
    "    cdx = np.min(np.append(np.argwhere(np.max(np.vstack([rel_diff,\n",
    "                              progress[k,1:,1],\n",
    "                              progress[k,1:,2]]), axis = 0) < tol), [maxiter]))+1\n",
    "    ax[k,0].plot(np.arange(maxiter)+1, progress[k,:,0], 'b')\n",
    "    ax[k,0].plot(np.arange(cdx, maxiter)+1, progress[k,cdx:,0], 'go')\n",
    "    #ax[k,1].plot(np.arange(maxiter-1)+2, rel_diff, 'b')\n",
    "    ax[k,1].plot(np.arange(maxiter-1)+2, progress[k,1:,1], 'g')\n",
    "    ax[k,1].plot(np.arange(maxiter-1)+2, progress[k,1:,2], 'm')\n",
    "    ax[k,1].plot(np.arange(maxiter-1)+2, tol * np.ones(maxiter-1), 'y--')\n",
    "    ax[k,0].set_title(\"Singular Value (SV) Components {}\".format(k))\n",
    "    ax[k,1].set_title(\"Relative Change In SV Component {}\".format(k))\n",
    "    ax[k,0].legend(['Pre-Convergence Criterion Met', 'Post Convergence Criterion Met'])\n",
    "    ax[k,1].legend(['Delta SV', 'Delta V', 'Delta U', 'Stopping Tolerance'])\n",
    "    ax[k,0].set_xlabel('Iterations')\n",
    "    ax[k,1].set_xlabel('Iterations')\n",
    "    ax[k,0].set_ylabel('Magnitude SV')\n",
    "    ax[k,1].set_ylabel('Log(% Change)')\n",
    "plt.tight_layout()\n",
    "plt.show()"
   ]
  },
  {
   "cell_type": "code",
   "execution_count": null,
   "metadata": {
    "scrolled": true
   },
   "outputs": [],
   "source": [
    "fig, ax = plt.subplots(1,1, figsize=(16,4))\n",
    "\n",
    "#thresh=.385\n",
    "thresh= (d1*d2 / ((d1*(d2-1) + d2*(d1-1))))*1.05\n",
    "metric = np.empty(K)\n",
    "for k in range(K):\n",
    "    metric[k] = np.sum(np.abs(U[k,:])) / eval_tv(U[k,:].reshape(Y_block.shape[:2])) \n",
    "ax.plot(np.arange(K), metric)\n",
    "disc_idx=data['disc_idx']\n",
    "del data\n",
    "ax.plot(np.arange(K), np.ones(K)*thresh)\n",
    "plt.show()"
   ]
  },
  {
   "cell_type": "code",
   "execution_count": null,
   "metadata": {},
   "outputs": [],
   "source": [
    "temporal_failed = np.argwhere(np.isnan(choose_rank(V, maxlag=10, confidence=.99, mean_th_factor=2)[0,:])).flatten()\n",
    "keep = np.setdiff1d(np.argwhere(metric > thresh), temporal_failed)\n",
    "print(\"components to keep:\" + str(keep))"
   ]
  },
  {
   "cell_type": "code",
   "execution_count": null,
   "metadata": {
    "scrolled": true
   },
   "outputs": [],
   "source": [
    "fig, ax = plt.subplots(K, 2, figsize=(16,2*K))\n",
    "for k in range(K):\n",
    "    ax[k,0].plot(np.arange(V.shape[-1]), V[k,:])\n",
    "    ax[k,1].imshow(np.abs(U[k,:].reshape(Y_block.shape[:2])))\n",
    "    ax[k,0].set_title(\"Temporal component {}, Passed: {}\".format(k, not k in temporal_failed))\n",
    "    ax[k,1].set_title(\"Spatial component {}, Passed: {}\".format(k, k in np.argwhere(metric > thresh)))\n",
    "plt.tight_layout()\n",
    "plt.show()"
   ]
  },
  {
   "cell_type": "markdown",
   "metadata": {},
   "source": [
    "# Debias and view movie"
   ]
  },
  {
   "cell_type": "code",
   "execution_count": null,
   "metadata": {},
   "outputs": [],
   "source": [
    "X = Y_block.reshape((np.prod(Y_block.shape[:2]), Y_block.shape[-1]), order='C')\n",
    "V_final = np.linalg.inv(U[keep,:].dot(U[keep,:].T)).dot(U[keep,:].dot(X))\n",
    "U_final = X.dot(V_final.T.dot(np.linalg.inv(V_final.dot(V_final.T))))\n",
    "denoised = U_final.dot(V_final).reshape(Y_block.shape, order='C')\n",
    "raw = Y_block.copy()\n",
    "residual = raw - denoised\n",
    "play(np.vstack([raw, denoised, np.abs(raw-denoised)]), magnification=7)"
   ]
  },
  {
   "cell_type": "markdown",
   "metadata": {},
   "source": [
    "# TV Denoising Analysis"
   ]
  },
  {
   "cell_type": "code",
   "execution_count": null,
   "metadata": {},
   "outputs": [],
   "source": [
    "V_hat = np.array([trend_filter.denoise(v) for v in V])"
   ]
  },
  {
   "cell_type": "code",
   "execution_count": null,
   "metadata": {},
   "outputs": [],
   "source": [
    "def compute_noise(X, v):\n",
    "    u = X.dot(v)\n",
    "    return 1 / np.sum(np.power(u, 2))"
   ]
  },
  {
   "cell_type": "code",
   "execution_count": null,
   "metadata": {},
   "outputs": [],
   "source": [
    "k=0\n",
    "w=.05\n",
    "orig = Y_block.dot(V[k,:])\n",
    "orig = orig / np.linalg.norm(orig)\n",
    "denoised = tv1_2d(orig, w=w)\n",
    "denoised = denoised / np.linalg.norm(denoised)\n",
    "mse = np.mean(np.power(orig - denoised, 2))\n",
    "noise_var = compute_noise(Y_block, V[k,:])"
   ]
  },
  {
   "cell_type": "code",
   "execution_count": null,
   "metadata": {},
   "outputs": [],
   "source": [
    "fig, ax = plt.subplots(1,2, figsize=(16,4))\n",
    "ax[0].imshow(np.abs(orig,))\n",
    "ax[1].imshow(np.abs(denoised))\n",
    "ax[0].set_title(\"Raw Spatial Component %d, Noise Estimates: %1.2e\"%(k, noise_var))\n",
    "ax[1].set_title(\"Denoised SpatialComponent %d, MSE: %1.2e\"%(k, mse))\n",
    "plt.show()"
   ]
  },
  {
   "cell_type": "code",
   "execution_count": null,
   "metadata": {
    "scrolled": false
   },
   "outputs": [],
   "source": [
    "fig, ax = plt.subplots(K, 2, figsize=(16,K*4))\n",
    "for k in range(K):\n",
    "    orig = Y_block.dot(V[k,:])\n",
    "    orig = orig / np.linalg.norm(orig)\n",
    "    denoised = tv1_2d(orig, w=w)\n",
    "    denoised = denoised / np.linalg.norm(denoised)\n",
    "    mse = np.mean(np.power(orig - denoised, 2))\n",
    "    noise_var = compute_noise(Y_block, V[k,:])\n",
    "    ax[k,0].imshow(np.abs(orig))\n",
    "    ax[k,1].imshow(np.abs(denoised))\n",
    "    ax[k,0].set_title(\"Raw Spatial Component %d, Noise Estimates: %1.2e\"%(k, noise_var))\n",
    "    ax[k,1].set_title(\"Denoised SpatialComponent %d, MSE: %1.2e\"%(k, mse))\n",
    "plt.show()"
   ]
  },
  {
   "cell_type": "code",
   "execution_count": null,
   "metadata": {},
   "outputs": [],
   "source": [
    "from timeit import timeit"
   ]
  },
  {
   "cell_type": "code",
   "execution_count": null,
   "metadata": {},
   "outputs": [],
   "source": [
    "w=.0025\n",
    "k=7"
   ]
  },
  {
   "cell_type": "code",
   "execution_count": null,
   "metadata": {},
   "outputs": [],
   "source": [
    "noisey = Y_block.dot(V[k,:])\n",
    "noisey = noisey / np.linalg.norm(noisey)\n",
    "#noisey = np.tile(noisey,(10, 2))\n",
    "noisey1 = noisey.copy()\n",
    "def test_tv():\n",
    "    tv1_2d(noisey1, w=w, max_iters=1)"
   ]
  },
  {
   "cell_type": "code",
   "execution_count": null,
   "metadata": {},
   "outputs": [],
   "source": [
    "timeit(test_tv, number=10)/10"
   ]
  },
  {
   "cell_type": "code",
   "execution_count": null,
   "metadata": {},
   "outputs": [],
   "source": [
    "#noisey = U[10,:].reshape(Y_block.shape[:2])\n",
    "noisey2 = noisey.copy()\n",
    "warm_start = tv1_2d(noisey2, w=w, max_iters=1)\n",
    "def test_tvws():\n",
    "    tv1_2dws(noisey, w, warm_start, max_iters=1)"
   ]
  },
  {
   "cell_type": "code",
   "execution_count": null,
   "metadata": {},
   "outputs": [],
   "source": [
    "timeit(test_tvws, number=10)/10"
   ]
  },
  {
   "cell_type": "code",
   "execution_count": null,
   "metadata": {},
   "outputs": [],
   "source": [
    "fig, ax = plt.subplots(1,2, figsize=(16,16))\n",
    "ax[0].imshow(np.abs(noisey))\n",
    "ax[1].imshow(np.abs(warm_start))\n",
    "#ax[0].set_title(\"Raw Spatial Component %d, Noise Estimates: %1.2e\"%(k, noise_var))\n",
    "#ax[1].set_title(\"Denoised SpatialComponent %d, MSE: %1.2e\"%(k, mse))\n",
    "plt.show()"
   ]
  },
  {
   "cell_type": "code",
   "execution_count": null,
   "metadata": {},
   "outputs": [],
   "source": [
    "def update_x(x):\n",
    "    x = x + 1\n",
    "    return x\n",
    "x = np.ones(10)\n",
    "y = update_x(x[:])"
   ]
  },
  {
   "cell_type": "code",
   "execution_count": null,
   "metadata": {},
   "outputs": [],
   "source": [
    "x = np.ones((3,3))"
   ]
  },
  {
   "cell_type": "code",
   "execution_count": null,
   "metadata": {},
   "outputs": [],
   "source": [
    "y = x.reshape(9)"
   ]
  },
  {
   "cell_type": "code",
   "execution_count": null,
   "metadata": {},
   "outputs": [],
   "source": [
    "y[0]=10\n",
    "x"
   ]
  },
  {
   "cell_type": "code",
   "execution_count": null,
   "metadata": {},
   "outputs": [],
   "source": []
  },
  {
   "cell_type": "markdown",
   "metadata": {},
   "source": [
    "# Prepare Data"
   ]
  },
  {
   "cell_type": "code",
   "execution_count": null,
   "metadata": {},
   "outputs": [],
   "source": [
    "data = io.loadmat(\"../data/detrended_sampleMovie.mat\")\n",
    "Y_detr=data['Y_detr']\n",
    "Y_trend=data['Y_trend']\n",
    "stim=data['stim']\n",
    "disc_idx=data['disc_idx']\n",
    "del data"
   ]
  },
  {
   "cell_type": "code",
   "execution_count": null,
   "metadata": {},
   "outputs": [],
   "source": [
    "#Y_block = Y_detr[20:40,720:760].copy()  # 20 x 40\n",
    "#Y_block = Y_detr[30:50,200:300].copy()  # 20 x 100\n",
    "#Y_block = Y_detr[40:,600:].copy()       # 40 x 200\n",
    "#Y_block = Y_detr[:40,600:800].copy()    # 40 x 200\n",
    "#Y_block = Y_detr[20:60,150:350].copy()  # 40 x 200\n",
    "#Y_block = Y_detr[:,200:600,].copy()     # 80 x 400\n",
    "Y_block = Y_detr.copy()\n",
    "d1, d2, T = Y_block.shape"
   ]
  },
  {
   "cell_type": "code",
   "execution_count": null,
   "metadata": {},
   "outputs": [],
   "source": [
    "X = Y_block.reshape((np.prod(Y_block.shape[:2]), Y_block.shape[-1]))\n",
    "sigma = estimate_noise(X, summarize='mean')\n",
    "X = (X / sigma[:,None]).reshape(Y_block.shape)"
   ]
  }
 ],
 "metadata": {
  "kernelspec": {
   "display_name": "Python 3",
   "language": "python",
   "name": "python3"
  },
  "language_info": {
   "codemirror_mode": {
    "name": "ipython",
    "version": 3
   },
   "file_extension": ".py",
   "mimetype": "text/x-python",
   "name": "python",
   "nbconvert_exporter": "python",
   "pygments_lexer": "ipython3",
   "version": "3.6.3"
  },
  "widgets": {
   "state": {},
   "version": "1.1.2"
  }
 },
 "nbformat": 4,
 "nbformat_minor": 2
}
