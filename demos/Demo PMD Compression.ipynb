{
 "cells": [
  {
   "cell_type": "code",
   "execution_count": 1,
   "metadata": {},
   "outputs": [],
   "source": [
    "import numpy as np\n",
    "\n",
    "import scipy.io as io\n",
    "import matplotlib.pyplot as plt\n",
    "\n",
    "from trefide.utils.noise import estimate_noise\n",
    "from trefide.temporal import TrendFilter\n",
    "from trefide.utils.greedyPCA import choose_rank\n",
    "from prox_tv import tv1_2d\n",
    "import cv2\n",
    "from cv2 import VideoWriter, VideoWriter_fourcc, imshow\n",
    "\n",
    "%load_ext autoreload\n",
    "%autoreload 2"
   ]
  },
  {
   "cell_type": "markdown",
   "metadata": {},
   "source": [
    "# functions to migrate"
   ]
  },
  {
   "cell_type": "code",
   "execution_count": 2,
   "metadata": {},
   "outputs": [],
   "source": [
    "def estimate_noise_image(im, r=3, n=5):\n",
    "    estimates = np.empty(n)\n",
    "    for ndx in range(n):\n",
    "        idx = np.random.choice(np.arange(r, im.shape[0]-r+1))\n",
    "        jdx = np.random.choice(np.arange(r, im.shape[1]-r+1))\n",
    "        patch = im[idx-r:idx+r, jdx-r:jdx+r]\n",
    "        estimates[ndx] = np.var(patch)\n",
    "    return estimates.min(), (np.median(np.abs(im - np.median(im))) / .954)**2"
   ]
  },
  {
   "cell_type": "code",
   "execution_count": 3,
   "metadata": {},
   "outputs": [],
   "source": [
    "def eval_tv(image):\n",
    "    return np.sum(np.abs(image[1:,:] - image[:-1,:])) + np.sum(np.abs(image[:,1:] - image[:,:-1]))"
   ]
  },
  {
   "cell_type": "code",
   "execution_count": 4,
   "metadata": {},
   "outputs": [],
   "source": [
    "def play(movie, gain=3, fr=120, offset=0, magnification=3):\n",
    "    maxmov = np.max(movie)\n",
    "    looping=True\n",
    "    terminated=False\n",
    "    while looping:\n",
    "        for t in range(350, 1000):\n",
    "            if magnification != 1:\n",
    "                frame = cv2.resize(movie[:,:,t],\n",
    "                                   None,\n",
    "                                   fx=magnification,\n",
    "                                   fy=magnification,\n",
    "                                   interpolation=cv2.INTER_LINEAR)\n",
    "            imshow('frame', (frame - offset) / maxmov*gain)\n",
    "            if cv2.waitKey(int(1. / fr * 1000)) & 0xFF == ord('q'):\n",
    "                looping = False\n",
    "                terminated = True\n",
    "                break\n",
    "        if terminated:\n",
    "            break\n",
    "\n",
    "    cv2.waitKey(100)\n",
    "    cv2.destroyAllWindows()\n",
    "    for i in range(10):\n",
    "        cv2.waitKey(100)"
   ]
  },
  {
   "cell_type": "markdown",
   "metadata": {},
   "source": [
    "# Prepare Data"
   ]
  },
  {
   "cell_type": "code",
   "execution_count": 5,
   "metadata": {},
   "outputs": [],
   "source": [
    "data = io.loadmat(\"../trefide/data/detrended_sampleMovie.mat\")\n",
    "Y_detr=data['Y_detr']\n",
    "Y_trend=data['Y_trend']\n",
    "stim=data['stim']\n",
    "disc_idx=data['disc_idx']\n",
    "del data"
   ]
  },
  {
   "cell_type": "code",
   "execution_count": 6,
   "metadata": {},
   "outputs": [],
   "source": [
    "Y_block = Y_detr[40:,600:].copy()\n",
    "#Y_block = Y_detr[:40,600:800].copy()\n",
    "#Y_block = Y_detr[20:40,750:].copy()\n",
    "#Y_block = Y_detr[30:50,200:300].copy()\n",
    "#Y_block = Y_detr[20:60,150:350].copy()\n",
    "#Y_block = Y_detr.copy()\n",
    "d1, d2, T = Y_block.shape"
   ]
  },
  {
   "cell_type": "code",
   "execution_count": 7,
   "metadata": {},
   "outputs": [
    {
     "data": {
      "text/plain": [
       "2886"
      ]
     },
     "execution_count": 7,
     "metadata": {},
     "output_type": "execute_result"
    }
   ],
   "source": [
    "T"
   ]
  },
  {
   "cell_type": "code",
   "execution_count": 8,
   "metadata": {},
   "outputs": [],
   "source": [
    "X = Y_block.reshape((np.prod(Y_block.shape[:2]), Y_block.shape[-1]))\n",
    "sigma = estimate_noise(X, summarize='mean')\n",
    "X = (X / sigma[:,None]).reshape(Y_block.shape)"
   ]
  },
  {
   "cell_type": "markdown",
   "metadata": {},
   "source": [
    "# Run Iterations and Collect Data"
   ]
  },
  {
   "cell_type": "code",
   "execution_count": 9,
   "metadata": {},
   "outputs": [],
   "source": [
    "from trefide.pmd import factor_patch"
   ]
  },
  {
   "cell_type": "code",
   "execution_count": 10,
   "metadata": {},
   "outputs": [],
   "source": [
    "K = 2\n",
    "U = np.zeros((K, d1*d2), dtype=np.float64)\n",
    "V = np.zeros((K,T), dtype=np.float64)\n",
    "maxiter=50\n",
    "n_metrics=3\n",
    "tol = 5e-3\n",
    "spatial_cutoff = (d1*d2 / ((d1*(d2-1) + d2*(d1-1))))*1.05\n",
    "w=.0025"
   ]
  },
  {
   "cell_type": "code",
   "execution_count": 11,
   "metadata": {
    "scrolled": true
   },
   "outputs": [],
   "source": [
    "K = factor_patch(d1, d2, T, X.copy(), U, V, w, spatial_cutoff, K, maxiter, tol)"
   ]
  },
  {
   "cell_type": "code",
   "execution_count": 12,
   "metadata": {},
   "outputs": [
    {
     "data": {
      "text/plain": [
       "2"
      ]
     },
     "execution_count": 12,
     "metadata": {},
     "output_type": "execute_result"
    }
   ],
   "source": [
    "K"
   ]
  },
  {
   "cell_type": "code",
   "execution_count": 13,
   "metadata": {},
   "outputs": [
    {
     "name": "stdout",
     "output_type": "stream",
     "text": [
      "components to keep:[0 1]\n"
     ]
    }
   ],
   "source": [
    "thresh= (d1*d2 / ((d1*(d2-1) + d2*(d1-1))))*1.05\n",
    "metric = np.empty(K)\n",
    "for k in range(K):\n",
    "    metric[k] = np.sum(np.abs(U[k,:])) / eval_tv(U[k,:].reshape(Y_block.shape[:2], order='C')) \n",
    "temporal_failed = np.argwhere(np.isnan(choose_rank(V, maxlag=10, confidence=.99, mean_th_factor=2)[0,:])).flatten()\n",
    "keep = np.setdiff1d(np.argwhere(metric > thresh), temporal_failed)\n",
    "print(\"components to keep:\" + str(keep))"
   ]
  },
  {
   "cell_type": "code",
   "execution_count": 14,
   "metadata": {},
   "outputs": [
    {
     "data": {
      "image/png": "[encoded data removed]",
      "text/plain": [
       "<matplotlib.figure.Figure at 0x7f479a66bb00>"
      ]
     },
     "metadata": {},
     "output_type": "display_data"
    }
   ],
   "source": [
    "fig, ax = plt.subplots(K, 2, figsize=(16,2*K))\n",
    "for k in range(K):\n",
    "    ax[k,0].plot(np.arange(V.shape[-1]), V[k,:])\n",
    "    ax[k,1].imshow(np.abs(U[k,:].reshape(Y_block.shape[:2], order='F')))\n",
    "    ax[k,0].set_title(\"Temporal component {}, Passed: {}\".format(k, not k in temporal_failed))\n",
    "    ax[k,1].set_title(\"Spatial component {}, Passed: {}\".format(k, k in np.argwhere(metric > thresh)))\n",
    "plt.tight_layout()\n",
    "plt.show()"
   ]
  },
  {
   "cell_type": "code",
   "execution_count": 15,
   "metadata": {},
   "outputs": [
    {
     "ename": "ModuleNotFoundError",
     "evalue": "No module named 'cnmfv'",
     "output_type": "error",
     "traceback": [
      "\u001b[0;31m---------------------------------------------------------------------------\u001b[0m",
      "\u001b[0;31mModuleNotFoundError\u001b[0m                       Traceback (most recent call last)",
      "\u001b[0;32m<ipython-input-15-5176a08aa3df>\u001b[0m in \u001b[0;36m<module>\u001b[0;34m()\u001b[0m\n\u001b[0;32m----> 1\u001b[0;31m \u001b[0;32mfrom\u001b[0m \u001b[0mcnmfv\u001b[0m\u001b[0;34m.\u001b[0m\u001b[0mpmd_parallel\u001b[0m \u001b[0;32mimport\u001b[0m \u001b[0mpmd_tf_tv\u001b[0m\u001b[0;34m\u001b[0m\u001b[0m\n\u001b[0m",
      "\u001b[0;31mModuleNotFoundError\u001b[0m: No module named 'cnmfv'"
     ]
    }
   ],
   "source": [
    "from cnmfv.pmd_parallel import pmd_tf_tv"
   ]
  },
  {
   "cell_type": "code",
   "execution_count": null,
   "metadata": {},
   "outputs": [],
   "source": [
    "U, S, V = pmd_tf_tv(X.copy())"
   ]
  },
  {
   "cell_type": "code",
   "execution_count": null,
   "metadata": {},
   "outputs": [],
   "source": [
    "X = X.reshape((np.prod(Y_block.shape[:2]), Y_block.shape[-1]))"
   ]
  },
  {
   "cell_type": "code",
   "execution_count": null,
   "metadata": {},
   "outputs": [],
   "source": [
    "K = 20\n",
    "maxiter=50\n",
    "n_metrics=3\n",
    "tol = 5e-3\n",
    "spatial_cutoff = (d1*d2 / ((d1*(d2-1) + d2*(d1-1))))*1.05\n",
    "w=.0025\n",
    "U = np.zeros((K, X.shape[0]))\n",
    "S = np.zeros(K)\n",
    "V = np.zeros((K, X.shape[1]))\n",
    "progress = np.zeros((K, maxiter, n_metrics))"
   ]
  },
  {
   "cell_type": "code",
   "execution_count": null,
   "metadata": {
    "scrolled": true
   },
   "outputs": [],
   "source": [
    "for k in range(K):\n",
    "    u = np.ones(U.shape[-1])\n",
    "    u = u / np.linalg.norm(u)\n",
    "    trend_filter = TrendFilter(V.shape[-1], verbose=1)\n",
    "    v = trend_filter.denoise(X.T.dot(u), delta=2)\n",
    "    #v = np.dot(X.T, u)\n",
    "    v = v / np.linalg.norm(v)\n",
    "    v_prev = v\n",
    "    u_prev = u\n",
    "    for iter_ in range(maxiter):\n",
    "        u = np.dot(X, v)\n",
    "        u = u / np.linalg.norm(u)\n",
    "        u =tv1_2d(u.reshape(Y_block.shape[:2]), w=w, max_iters=1).reshape((len(u),))\n",
    "        u = u / np.linalg.norm(u)\n",
    "        #v = np.dot(X.T, u)\n",
    "        #v = v / np.linalg.norm(v) \n",
    "        v = trend_filter.denoise(np.dot(X.T, u), delta=2)\n",
    "        v = v / np.linalg.norm(v)\n",
    "        progress[k, iter_, 0] = u.T.dot(X).dot(v)\n",
    "        progress[k, iter_, 1] = np.linalg.norm(v - v_prev)\n",
    "        progress[k, iter_, 2] = np.linalg.norm(u - u_prev)\n",
    "        v_prev = v\n",
    "        u_prev = u\n",
    "        if iter_ > 5:\n",
    "            rel_diff = np.abs(progress[k,iter_-1,0] - progress[k,iter_,0]) / progress[k,iter_-1,0]\n",
    "            if np.max([rel_diff,  progress[k, iter_, 1],  progress[k, iter_, 2]]) < tol:\n",
    "                break\n",
    "        if iter_ == 9:\n",
    "            if np.sum(np.abs(u)) / eval_tv(u.reshape(Y_block.shape[:2])) < spatial_cutoff:\n",
    "                break\n",
    "            \n",
    "    if np.sum(np.abs(u)) / eval_tv(u.reshape(Y_block.shape[:2])) < spatial_cutoff:\n",
    "        break\n",
    "    else:\n",
    "        U[k,:] = u\n",
    "        #V[k,:] = v\n",
    "        V[k,:] = X.T.dot(u)\n",
    "        V[k,:] /= np.linalg.norm(V[k,:])\n",
    "        S[k] = np.dot(np.dot(X,V[k,:]).T, U[k,:])\n",
    "        X -= S[k] * U[k,:][:,None].dot(V[k,:][None,:])\n",
    "        print(k)"
   ]
  },
  {
   "cell_type": "code",
   "execution_count": null,
   "metadata": {},
   "outputs": [],
   "source": [
    "K = k\n",
    "#K = U.shape[0]"
   ]
  },
  {
   "cell_type": "code",
   "execution_count": null,
   "metadata": {
    "scrolled": true
   },
   "outputs": [],
   "source": [
    "fig, ax = plt.subplots(K+1,2, figsize=(16,3*(K+1)))\n",
    "for k in range(K+1):\n",
    "    rel_diff = np.abs(progress[k,:-1,0] - progress[k,1:,0]) / progress[k,:-1,0]\n",
    "    cdx = np.min(np.append(np.argwhere(np.max(np.vstack([rel_diff,\n",
    "                              progress[k,1:,1],\n",
    "                              progress[k,1:,2]]), axis = 0) < tol), [maxiter]))+1\n",
    "    ax[k,0].plot(np.arange(maxiter)+1, progress[k,:,0], 'b')\n",
    "    ax[k,0].plot(np.arange(cdx, maxiter)+1, progress[k,cdx:,0], 'go')\n",
    "    #ax[k,1].plot(np.arange(maxiter-1)+2, rel_diff, 'b')\n",
    "    ax[k,1].plot(np.arange(maxiter-1)+2, progress[k,1:,1], 'g')\n",
    "    ax[k,1].plot(np.arange(maxiter-1)+2, progress[k,1:,2], 'm')\n",
    "    ax[k,1].plot(np.arange(maxiter-1)+2, tol * np.ones(maxiter-1), 'y--')\n",
    "    ax[k,0].set_title(\"Singular Value (SV) Components {}\".format(k))\n",
    "    ax[k,1].set_title(\"Relative Change In SV Component {}\".format(k))\n",
    "    ax[k,0].legend(['Pre-Convergence Criterion Met', 'Post Convergence Criterion Met'])\n",
    "    ax[k,1].legend(['Delta SV', 'Delta V', 'Delta U', 'Stopping Tolerance'])\n",
    "    ax[k,0].set_xlabel('Iterations')\n",
    "    ax[k,1].set_xlabel('Iterations')\n",
    "    ax[k,0].set_ylabel('Magnitude SV')\n",
    "    ax[k,1].set_ylabel('Log(% Change)')\n",
    "plt.tight_layout()\n",
    "plt.show()"
   ]
  },
  {
   "cell_type": "code",
   "execution_count": null,
   "metadata": {
    "scrolled": true
   },
   "outputs": [],
   "source": [
    "fig, ax = plt.subplots(1,1, figsize=(16,4))\n",
    "\n",
    "#thresh=.385\n",
    "thresh= (d1*d2 / ((d1*(d2-1) + d2*(d1-1))))*1.05\n",
    "metric = np.empty(K)\n",
    "for k in range(K):\n",
    "    metric[k] = np.sum(np.abs(U[k,:])) / eval_tv(U[k,:].reshape(Y_block.shape[:2])) \n",
    "ax.plot(np.arange(K), metric)\n",
    "ax.plot(np.arange(K), np.ones(K)*thresh)\n",
    "plt.show()"
   ]
  },
  {
   "cell_type": "code",
   "execution_count": null,
   "metadata": {},
   "outputs": [],
   "source": [
    "temporal_failed = np.argwhere(np.isnan(choose_rank(V, maxlag=10, confidence=.99, mean_th_factor=2)[0,:])).flatten()\n",
    "keep = np.setdiff1d(np.argwhere(metric > thresh), temporal_failed)\n",
    "print(\"components to keep:\" + str(keep))"
   ]
  },
  {
   "cell_type": "code",
   "execution_count": null,
   "metadata": {},
   "outputs": [],
   "source": [
    "fig, ax = plt.subplots(K, 2, figsize=(16,2*K))\n",
    "for k in range(K):\n",
    "    ax[k,0].plot(np.arange(V.shape[-1]), V[k,:])\n",
    "    ax[k,1].imshow(np.abs(U[k,:].reshape(Y_block.shape[:2])))\n",
    "    ax[k,0].set_title(\"Temporal component {}, Passed: {}\".format(k, not k in temporal_failed))\n",
    "    ax[k,1].set_title(\"Spatial component {}, Passed: {}\".format(k, k in np.argwhere(metric > thresh)))\n",
    "plt.tight_layout()\n",
    "plt.show()"
   ]
  },
  {
   "cell_type": "markdown",
   "metadata": {},
   "source": [
    "# Debias and view movie"
   ]
  },
  {
   "cell_type": "code",
   "execution_count": null,
   "metadata": {},
   "outputs": [],
   "source": [
    "X = Y_block.reshape((np.prod(Y_block.shape[:2]), Y_block.shape[-1]))\n",
    "V_final = np.linalg.inv(U[keep,:].dot(U[keep,:].T)).dot(U[keep,:].dot(X))\n",
    "U_final = X.dot(V_final.T.dot(np.linalg.inv(V_final.dot(V_final.T))))\n",
    "denoised = U_final.dot(V_final).reshape(Y_block.shape)\n",
    "raw = Y_block.copy()\n",
    "residual = raw - denoised\n",
    "play(np.vstack([raw, denoised, np.abs(raw-denoised)]), magnification=7)"
   ]
  },
  {
   "cell_type": "markdown",
   "metadata": {},
   "source": [
    "# TV Denoising Analysis"
   ]
  },
  {
   "cell_type": "code",
   "execution_count": null,
   "metadata": {},
   "outputs": [],
   "source": [
    "V_hat = np.array([trend_filter.denoise(v) for v in V])"
   ]
  },
  {
   "cell_type": "code",
   "execution_count": null,
   "metadata": {},
   "outputs": [],
   "source": [
    "def compute_noise(X, v):\n",
    "    u = X.dot(v)\n",
    "    return 1 / np.sum(np.power(u, 2))"
   ]
  },
  {
   "cell_type": "code",
   "execution_count": null,
   "metadata": {},
   "outputs": [],
   "source": [
    "k=0\n",
    "w=.05\n",
    "orig = Y_block.dot(V[k,:])\n",
    "orig = orig / np.linalg.norm(orig)\n",
    "denoised = tv1_2d(orig, w=w)\n",
    "denoised = denoised / np.linalg.norm(denoised)\n",
    "mse = np.mean(np.power(orig - denoised, 2))\n",
    "noise_var = compute_noise(Y_block, V[k,:])"
   ]
  },
  {
   "cell_type": "code",
   "execution_count": null,
   "metadata": {},
   "outputs": [],
   "source": [
    "fig, ax = plt.subplots(1,2, figsize=(16,4))\n",
    "ax[0].imshow(np.abs(orig,))\n",
    "ax[1].imshow(np.abs(denoised))\n",
    "ax[0].set_title(\"Raw Spatial Component %d, Noise Estimates: %1.2e\"%(k, noise_var))\n",
    "ax[1].set_title(\"Denoised SpatialComponent %d, MSE: %1.2e\"%(k, mse))\n",
    "plt.show()"
   ]
  },
  {
   "cell_type": "code",
   "execution_count": null,
   "metadata": {
    "scrolled": false
   },
   "outputs": [],
   "source": [
    "fig, ax = plt.subplots(K, 2, figsize=(16,K*4))\n",
    "for k in range(K):\n",
    "    orig = Y_block.dot(V[k,:])\n",
    "    orig = orig / np.linalg.norm(orig)\n",
    "    denoised = tv1_2d(orig, w=w)\n",
    "    denoised = denoised / np.linalg.norm(denoised)\n",
    "    mse = np.mean(np.power(orig - denoised, 2))\n",
    "    noise_var = compute_noise(Y_block, V[k,:])\n",
    "    ax[k,0].imshow(np.abs(orig))\n",
    "    ax[k,1].imshow(np.abs(denoised))\n",
    "    ax[k,0].set_title(\"Raw Spatial Component %d, Noise Estimates: %1.2e\"%(k, noise_var))\n",
    "    ax[k,1].set_title(\"Denoised SpatialComponent %d, MSE: %1.2e\"%(k, mse))\n",
    "plt.show()"
   ]
  },
  {
   "cell_type": "code",
   "execution_count": null,
   "metadata": {},
   "outputs": [],
   "source": [
    "from timeit import timeit"
   ]
  },
  {
   "cell_type": "code",
   "execution_count": null,
   "metadata": {},
   "outputs": [],
   "source": [
    "w=.0025\n",
    "k=7"
   ]
  },
  {
   "cell_type": "code",
   "execution_count": null,
   "metadata": {},
   "outputs": [],
   "source": [
    "noisey = Y_block.dot(V[k,:])\n",
    "noisey = noisey / np.linalg.norm(noisey)\n",
    "#noisey = np.tile(noisey,(10, 2))\n",
    "noisey1 = noisey.copy()\n",
    "def test_tv():\n",
    "    tv1_2d(noisey1, w=w, max_iters=1)"
   ]
  },
  {
   "cell_type": "code",
   "execution_count": null,
   "metadata": {},
   "outputs": [],
   "source": [
    "timeit(test_tv, number=10)/10"
   ]
  },
  {
   "cell_type": "code",
   "execution_count": null,
   "metadata": {},
   "outputs": [],
   "source": [
    "#noisey = U[10,:].reshape(Y_block.shape[:2])\n",
    "noisey2 = noisey.copy()\n",
    "warm_start = tv1_2d(noisey2, w=w, max_iters=1)\n",
    "def test_tvws():\n",
    "    tv1_2dws(noisey, w, warm_start, max_iters=1)"
   ]
  },
  {
   "cell_type": "code",
   "execution_count": null,
   "metadata": {},
   "outputs": [],
   "source": [
    "timeit(test_tvws, number=10)/10"
   ]
  },
  {
   "cell_type": "code",
   "execution_count": null,
   "metadata": {},
   "outputs": [],
   "source": [
    "fig, ax = plt.subplots(1,2, figsize=(16,16))\n",
    "ax[0].imshow(np.abs(noisey))\n",
    "ax[1].imshow(np.abs(warm_start))\n",
    "#ax[0].set_title(\"Raw Spatial Component %d, Noise Estimates: %1.2e\"%(k, noise_var))\n",
    "#ax[1].set_title(\"Denoised SpatialComponent %d, MSE: %1.2e\"%(k, mse))\n",
    "plt.show()"
   ]
  },
  {
   "cell_type": "code",
   "execution_count": null,
   "metadata": {},
   "outputs": [],
   "source": [
    "def update_x(x):\n",
    "    x = x + 1\n",
    "    return x\n",
    "x = np.ones(10)\n",
    "y = update_x(x[:])"
   ]
  },
  {
   "cell_type": "code",
   "execution_count": null,
   "metadata": {},
   "outputs": [],
   "source": [
    "x = np.ones((3,3))"
   ]
  },
  {
   "cell_type": "code",
   "execution_count": null,
   "metadata": {},
   "outputs": [],
   "source": [
    "y = x.reshape(9)"
   ]
  },
  {
   "cell_type": "code",
   "execution_count": null,
   "metadata": {},
   "outputs": [],
   "source": [
    "y[0]=10\n",
    "x"
   ]
  },
  {
   "cell_type": "code",
   "execution_count": null,
   "metadata": {},
   "outputs": [],
   "source": []
  }
 ],
 "metadata": {
  "kernelspec": {
   "display_name": "Python 3",
   "language": "python",
   "name": "python3"
  },
  "language_info": {
   "codemirror_mode": {
    "name": "ipython",
    "version": 3
   },
   "file_extension": ".py",
   "mimetype": "text/x-python",
   "name": "python",
   "nbconvert_exporter": "python",
   "pygments_lexer": "ipython3",
   "version": "3.6.3"
  },
  "widgets": {
   "state": {},
   "version": "1.1.2"
  }
 },
 "nbformat": 4,
 "nbformat_minor": 2
}
