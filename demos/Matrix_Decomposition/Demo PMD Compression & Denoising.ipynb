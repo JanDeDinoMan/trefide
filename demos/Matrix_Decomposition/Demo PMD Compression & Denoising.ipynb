{
 "cells": [
  {
   "cell_type": "code",
   "execution_count": 1,
   "metadata": {},
   "outputs": [],
   "source": [
    "# General Dependencies\n",
    "import os\n",
    "import numpy as np\n",
    "\n",
    "# Preprocessing Dependencies\n",
    "from trefide.utils import psd_noise_estimate\n",
    "\n",
    "# PMD Model Dependencies\n",
    "from trefide.pmd import batch_decompose,\\\n",
    "                        batch_recompose,\\\n",
    "                        overlapping_batch_decompose,\\\n",
    "                        overlapping_batch_recompose,\\\n",
    "                        determine_thresholds\n",
    "from trefide.reformat import overlapping_component_reformat\n",
    "\n",
    "# Plotting & Video Rendering Dependencies\n",
    "import matplotlib.pyplot as plt\n",
    "from trefide.plot import pixelwise_ranks\n",
    "from trefide.extras.util_plot import comparison_plot\n",
    "from trefide.video import play_cv2\n",
    "\n",
    "# Set Demo Dataset Location\n",
    "ext = os.path.join(\"../../\", \"data\")\n",
    "filename = os.path.join(ext, \"demoMovie.npy\")\n",
    "\n",
    "%load_ext autoreload\n",
    "%autoreload 2"
   ]
  },
  {
   "cell_type": "markdown",
   "metadata": {},
   "source": [
    "### Load Preprocessed Data and set parameters"
   ]
  },
  {
   "cell_type": "code",
   "execution_count": 2,
   "metadata": {},
   "outputs": [],
   "source": [
    "mov = np.load(filename)\n",
    "fov_height, fov_width, num_frames = mov.shape\n",
    "\n",
    "# Generous maximum of rank 50 blocks (safeguard to terminate early if this is hit)\n",
    "max_components = 50\n",
    "\n",
    "# Enable Decimation \n",
    "max_iters_main = 10\n",
    "max_iters_init = 40\n",
    "d_sub=2\n",
    "t_sub=2\n",
    "\n",
    "# Defaults\n",
    "consec_failures = 3\n",
    "tol = 5e-3\n",
    "\n",
    "# Set Blocksize Parameters\n",
    "block_height = 40\n",
    "block_width = 40\n",
    "overlapping = True\n",
    "enable_temporal_denoiser = True\n",
    "enable_spatial_denoiser = True"
   ]
  },
  {
   "cell_type": "markdown",
   "metadata": {},
   "source": [
    "### Simulate Critical Region Using Noise, determine spatial & temporal threshold"
   ]
  },
  {
   "cell_type": "code",
   "execution_count": 3,
   "metadata": {
    "scrolled": false
   },
   "outputs": [
    {
     "name": "stdout",
     "output_type": "stream",
     "text": [
      "CPU times: user 1min 16s, sys: 1.03 s, total: 1min 17s\n",
      "Wall time: 12.2 s\n"
     ]
    }
   ],
   "source": [
    "%%time\n",
    "spatial_thresh, temporal_thresh = determine_thresholds((fov_height, fov_width, num_frames),\n",
    "                                                       (block_height, block_width),\n",
    "                                                       consec_failures, max_iters_main, \n",
    "                                                       max_iters_init, tol, \n",
    "                                                       d_sub, t_sub, 5, False,\n",
    "                                                       enable_temporal_denoiser,\n",
    "                                                       enable_spatial_denoiser)"
   ]
  },
  {
   "cell_type": "markdown",
   "metadata": {},
   "source": [
    "### Decompose Each Block Into Spatial & Temporal Components"
   ]
  },
  {
   "cell_type": "code",
   "execution_count": 4,
   "metadata": {},
   "outputs": [
    {
     "name": "stdout",
     "output_type": "stream",
     "text": [
      "CPU times: user 6min 14s, sys: 4.89 s, total: 6min 19s\n",
      "Wall time: 31.9 s\n"
     ]
    }
   ],
   "source": [
    "%%time\n",
    "if not overlapping:    # Blockwise Parallel, Single Tiling\n",
    "    spatial_components,\\\n",
    "    temporal_components,\\\n",
    "    block_ranks,\\\n",
    "    block_indices = batch_decompose(fov_height, fov_width, num_frames,\n",
    "                                    mov, block_height, block_width,\n",
    "                                    spatial_thresh, temporal_thresh,\n",
    "                                    max_components, consec_failures,\n",
    "                                    max_iters_main, max_iters_init, tol,\n",
    "                                    d_sub, t_sub,\n",
    "                                    enable_temporal_denoiser, enable_spatial_denoiser)\n",
    "else:    # Blockwise Parallel, 4x Overlapping Tiling\n",
    "    spatial_components,\\\n",
    "    temporal_components,\\\n",
    "    block_ranks,\\\n",
    "    block_indices,\\\n",
    "    block_weights = overlapping_batch_decompose(fov_height, fov_width, num_frames,\n",
    "                                                mov, block_height, block_width,\n",
    "                                                spatial_thresh, temporal_thresh,\n",
    "                                                max_components, consec_failures,\n",
    "                                                max_iters_main, max_iters_init, tol,\n",
    "                                                d_sub, t_sub,\n",
    "                                                enable_temporal_denoiser, enable_spatial_denoiser)"
   ]
  },
  {
   "cell_type": "markdown",
   "metadata": {},
   "source": [
    "### Reconstruct Denoised Video"
   ]
  },
  {
   "cell_type": "code",
   "execution_count": null,
   "metadata": {},
   "outputs": [],
   "source": [
    "%%time\n",
    "if not overlapping:  # Single Tiling (No need for reqweighting)\n",
    "    mov_denoised = np.asarray(batch_recompose(spatial_components,\n",
    "                                              temporal_components,\n",
    "                                              block_ranks,\n",
    "                                              block_indices))\n",
    "else:   # Overlapping Tilings With Reweighting\n",
    "    mov_denoised = np.asarray(overlapping_batch_recompose(fov_height, fov_width, num_frames,\n",
    "                                                          block_height, block_width,\n",
    "                                                          spatial_components,\n",
    "                                                          temporal_components,\n",
    "                                                          block_ranks,\n",
    "                                                          block_indices,\n",
    "                                                          block_weights)) "
   ]
  },
  {
   "cell_type": "markdown",
   "metadata": {},
   "source": [
    "### Produce Diagnostics, Single Tiling Pixel-Wise Ranks"
   ]
  },
  {
   "cell_type": "code",
   "execution_count": null,
   "metadata": {},
   "outputs": [],
   "source": [
    "if overlapping:\n",
    "    pixelwise_ranks(block_ranks['no_skew']['full'], fov_height, fov_width, num_frames, block_height, block_width)\n",
    "else:\n",
    "    pixelwise_ranks(block_ranks, fov_height, fov_width, num_frames, block_height, block_width)"
   ]
  },
  {
   "cell_type": "markdown",
   "metadata": {},
   "source": [
    "### Correlation Images"
   ]
  },
  {
   "cell_type": "code",
   "execution_count": null,
   "metadata": {},
   "outputs": [],
   "source": [
    "comparison_plot([mov, mov_denoised + np.random.randn(np.prod(mov.shape)).reshape(mov.shape)*.01],\n",
    "                plot_orientation=\"horizontal\")"
   ]
  },
  {
   "cell_type": "markdown",
   "metadata": {},
   "source": [
    "### Render Videos & Residual"
   ]
  },
  {
   "cell_type": "code",
   "execution_count": null,
   "metadata": {},
   "outputs": [],
   "source": [
    "play_cv2(np.vstack([mov, mov_denoised, mov-mov_denoised]), magnification=2)"
   ]
  },
  {
   "cell_type": "markdown",
   "metadata": {},
   "source": [
    "### Save Results"
   ]
  },
  {
   "cell_type": "code",
   "execution_count": null,
   "metadata": {},
   "outputs": [],
   "source": [
    "U, V = overlapping_component_reformat(fov_height, fov_width, num_frames,\n",
    "                                      block_height, block_width,\n",
    "                                      spatial_components,\n",
    "                                      temporal_components,\n",
    "                                      block_ranks,\n",
    "                                      block_indices,\n",
    "                                      block_weights)"
   ]
  },
  {
   "cell_type": "code",
   "execution_count": null,
   "metadata": {},
   "outputs": [],
   "source": [
    "np.savez(os.path.join(ext, \"demo_results.npz\"), U, V)"
   ]
  },
  {
   "cell_type": "markdown",
   "metadata": {},
   "source": [
    "   "
   ]
  }
 ],
 "metadata": {
  "kernelspec": {
   "display_name": "Python 3",
   "language": "python",
   "name": "python3"
  },
  "language_info": {
   "codemirror_mode": {
    "name": "ipython",
    "version": 3
   },
   "file_extension": ".py",
   "mimetype": "text/x-python",
   "name": "python",
   "nbconvert_exporter": "python",
   "pygments_lexer": "ipython3",
   "version": "3.8.2"
  },
  "widgets": {
   "state": {},
   "version": "1.1.2"
  }
 },
 "nbformat": 4,
 "nbformat_minor": 2
}
