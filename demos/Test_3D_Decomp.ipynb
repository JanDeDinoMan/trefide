{
 "cells": [
  {
   "cell_type": "code",
   "execution_count": 1,
   "metadata": {},
   "outputs": [],
   "source": [
    "import numpy as np\n",
    "import scipy\n",
    "import matplotlib.pyplot as plt\n",
    "%matplotlib inline\n",
    "import cv2\n",
    "\n",
    "import trefide.denoiser as denoiser"
   ]
  },
  {
   "cell_type": "markdown",
   "metadata": {},
   "source": [
    "### Load 3D imaging data\n",
    "\n",
    "Append dummy Z axis to covert to 3D data if the imaging data is of shape (x, y, time)."
   ]
  },
  {
   "cell_type": "code",
   "execution_count": 2,
   "metadata": {},
   "outputs": [
    {
     "name": "stdout",
     "output_type": "stream",
     "text": [
      "56 128 3 27100\n"
     ]
    }
   ],
   "source": [
    "# 3D imaging data of shape (d1, d2, nchan, time)\n",
    "Y = np.load('/mnt/data/3D_data/data_for_ding_apr17.npz')['Y_normalized']\n",
    "Y = np.transpose(Y, [3,2,1,0])\n",
    "Y = np.ascontiguousarray(Y[:56,:128,:,:])\n",
    "d1, d2, nchan, T = Y.shape\n",
    "print(d1, d2, nchan, T)"
   ]
  },
  {
   "cell_type": "code",
   "execution_count": 3,
   "metadata": {},
   "outputs": [],
   "source": [
    "def eval_spatial_stat(u):\n",
    "    tmp1 = np.abs(u[1:,:,:] - u[:-1,:,:])\n",
    "    tmp2 = np.abs(u[:,1:,:] - u[:,:-1,:])\n",
    "    tmp3 = np.abs(u[:,:,1:] - u[:,:,:-1])\n",
    "    return (((np.sum(tmp1) + np.sum(tmp2) + np.sum(tmp3)) * np.prod(u.shape)) / \n",
    "            ((np.prod(tmp1.shape) + np.prod(tmp2.shape) + np.prod(tmp3.shape)) * np.sum(np.abs(u)))) \n",
    "\n",
    "def eval_temporal_stat(v):\n",
    "    return np.sum(np.abs(v[:-2] + v[2:] - 2*v[1:-1])) / np.sum(np.abs(v))"
   ]
  },
  {
   "cell_type": "code",
   "execution_count": 4,
   "metadata": {},
   "outputs": [],
   "source": [
    "# Specify Decomp Parameters\n",
    "bheight = 14\n",
    "bwidth = 16\n",
    "hbheight = int(bheight/2)\n",
    "hbwidth = int(bwidth/2)\n",
    "\n",
    "# Specify Simulation Params\n",
    "T = min(6000, T)\n",
    "num_blocks = 16\n",
    "num_comps = 3\n",
    "num_samples = 240\n",
    "num_repeats = int(num_samples / (num_blocks * num_comps))\n",
    "\n",
    "# Iteratively Simulate & Fit Noise To Collect Samples\n",
    "spatial_stats = []\n",
    "temporal_stats = []\n",
    "for rep in range(num_repeats):    \n",
    "    # Generate Noise Movie Of NumSimul Blocks\n",
    "    Y_sim = np.reshape(np.random.randn(num_blocks*bwidth*bheight*nchan*T),\n",
    "                       (bheight, num_blocks*bwidth, nchan, T))\n",
    "\n",
    "    # Run Denoiser W/ Max Comp 3 and absurdly large thresholds\n",
    "    out = denoiser.batch_decompose(bheight, num_blocks*bwidth, nchan, T,\n",
    "                                      Y_sim, bheight, bwidth,\n",
    "                                      1e5, 1e5, \n",
    "                                      num_comps, 3, 10, 40, 5e-3)\n",
    "    \n",
    "    # Collect Test Statistics On All Samples\n",
    "    for bdx in range(num_blocks):\n",
    "        for cdx in range(num_comps):\n",
    "            spatial_stats.append(eval_spatial_stat(out[0][bdx,cdx]))\n",
    "            temporal_stats.append(eval_temporal_stat(out[1][bdx,cdx]))\n",
    "\n",
    "spatial_stats = np.array(spatial_stats)\n",
    "temporal_stats = np.array(temporal_stats)"
   ]
  },
  {
   "cell_type": "code",
   "execution_count": 5,
   "metadata": {},
   "outputs": [
    {
     "data": {
      "image/png": "[encoded data removed]",
      "text/plain": [
       "<Figure size 576x576 with 4 Axes>"
      ]
     },
     "metadata": {},
     "output_type": "display_data"
    }
   ],
   "source": [
    "conf = .95\n",
    "# Compute Thresholds\n",
    "spatial_thresh =  np.percentile(spatial_stats, conf)\n",
    "temporal_thresh = np.percentile(temporal_stats, conf)\n",
    "\n",
    "fig, ax = plt.subplots(2,2,figsize=(8,8))\n",
    "ax[0,0].scatter(spatial_stats, temporal_stats, marker='x', c='r', alpha = .2)\n",
    "ax[0,0].axvline(spatial_thresh)\n",
    "ax[0,0].axhline(temporal_thresh)\n",
    "ax[0,1].hist(temporal_stats, bins=20, color='r')\n",
    "ax[0,1].axvline(temporal_thresh)\n",
    "ax[0,1].set_title(\"Temporal Threshold: {}\".format(temporal_thresh))\n",
    "ax[1,0].hist(spatial_stats, bins=20, color='r')\n",
    "ax[1,0].axvline(spatial_thresh)\n",
    "ax[1,0].set_title(\"Spatial Threshold: {}\".format(spatial_thresh))\n",
    "plt.show()"
   ]
  },
  {
   "cell_type": "code",
   "execution_count": 6,
   "metadata": {},
   "outputs": [],
   "source": [
    "max_comp = 30\n",
    "temporal_thresh = 2.0"
   ]
  },
  {
   "cell_type": "code",
   "execution_count": 7,
   "metadata": {},
   "outputs": [],
   "source": [
    "outs = denoiser.overlapping_batch_decompose(d1, d2, nchan, T,\n",
    "                                   Y, bheight, bwidth,\n",
    "                                   spatial_thresh, temporal_thresh,\n",
    "                                   max_comp, 3, 40, 40, 5e-3)"
   ]
  },
  {
   "cell_type": "code",
   "execution_count": 8,
   "metadata": {},
   "outputs": [
    {
     "name": "stdout",
     "output_type": "stream",
     "text": [
      "(56, 128, 3, 6000)\n"
     ]
    }
   ],
   "source": [
    "Y_den = denoiser.overlapping_batch_recompose(outs, d1, d2, bheight, bwidth)\n",
    "print(Y_den.shape)"
   ]
  },
  {
   "cell_type": "code",
   "execution_count": 9,
   "metadata": {},
   "outputs": [],
   "source": [
    "def play_3d(movie, \n",
    "            gain=3, \n",
    "            fr=60, \n",
    "            offset=0, \n",
    "            magnification=1, \n",
    "            repeat=False):\n",
    "    \n",
    "    \"\"\" Render Video With OpenCV3 Library's Imshow\"\"\"\n",
    "    d1, d2, nchan, T = movie.shape\n",
    "    maxmov = np.max(movie)\n",
    "    looping=True\n",
    "    terminated=False\n",
    "    while looping:\n",
    "        for t in range(T):\n",
    "            if magnification != 1:\n",
    "                frame = cv2.resize(np.reshape(movie[:,:,:,t], (d1, -1), order='F'),\n",
    "                                   None,\n",
    "                                   fx=magnification,\n",
    "                                   fy=magnification,\n",
    "                                   interpolation=cv2.INTER_LINEAR)\n",
    "            else:\n",
    "                frame = np.reshape(movie[:,:,:,t], (d1, -1), order='F')\n",
    "            cv2.imshow('frame', (frame - offset) / maxmov*gain)\n",
    "            if cv2.waitKey(int(1. / fr * 1000)) & 0xFF == ord('q'):\n",
    "                looping = False\n",
    "                terminated = True\n",
    "                break\n",
    "        if terminated:\n",
    "            break\n",
    "        looping=repeat\n",
    "\n",
    "    cv2.waitKey(100)\n",
    "    cv2.destroyAllWindows()\n",
    "    for i in range(10):\n",
    "        cv2.waitKey(100)"
   ]
  },
  {
   "cell_type": "code",
   "execution_count": 10,
   "metadata": {},
   "outputs": [],
   "source": [
    "# display denoised imaging data\n",
    "Y_denf = np.asfortranarray(Y_den)\n",
    "play_3d(Y_denf, magnification=3, gain=1)"
   ]
  },
  {
   "cell_type": "code",
   "execution_count": 14,
   "metadata": {},
   "outputs": [],
   "source": [
    "# display original imaging data\n",
    "Y_f = np.asfortranarray(Y)\n",
    "play_3d(Y_f, magnification=3)"
   ]
  },
  {
   "cell_type": "code",
   "execution_count": 15,
   "metadata": {},
   "outputs": [],
   "source": [
    "# display background noise\n",
    "Y_r = np.asfortranarray(Y_f[:,:,:,:T] - Y_denf)\n",
    "play_3d(Y_r, magnification=3)"
   ]
  },
  {
   "cell_type": "code",
   "execution_count": 16,
   "metadata": {},
   "outputs": [
    {
     "name": "stdout",
     "output_type": "stream",
     "text": [
      "15.531514968545501 -9.645262929041495\n"
     ]
    }
   ],
   "source": [
    "print(np.max(Y_r), np.min(Y_r))"
   ]
  },
  {
   "cell_type": "code",
   "execution_count": 17,
   "metadata": {},
   "outputs": [
    {
     "name": "stdout",
     "output_type": "stream",
     "text": [
      "(168, 128, 3, 6000)\n"
     ]
    }
   ],
   "source": [
    "# display original, denoised, background noise imaging data for comparison\n",
    "tmp = np.vstack([Y_f[:,:,:,:T], Y_denf, Y_r])\n",
    "print(tmp.shape)\n",
    "play_3d(tmp, magnification=3)"
   ]
  },
  {
   "cell_type": "code",
   "execution_count": 18,
   "metadata": {},
   "outputs": [],
   "source": [
    "np.savez(\"./data_for_ding_apr17_denoised_notv.npz\", Y_denoised=Y_denf, Y_original=Y_f)"
   ]
  }
 ],
 "metadata": {
  "kernelspec": {
   "display_name": "Python 3",
   "language": "python",
   "name": "python3"
  },
  "language_info": {
   "codemirror_mode": {
    "name": "ipython",
    "version": 3
   },
   "file_extension": ".py",
   "mimetype": "text/x-python",
   "name": "python",
   "nbconvert_exporter": "python",
   "pygments_lexer": "ipython3",
   "version": "3.6.8"
  }
 },
 "nbformat": 4,
 "nbformat_minor": 2
}
